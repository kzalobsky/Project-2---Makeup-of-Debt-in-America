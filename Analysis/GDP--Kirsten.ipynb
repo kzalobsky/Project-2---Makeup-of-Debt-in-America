{
 "cells": [
  {
   "cell_type": "code",
   "execution_count": 1,
   "id": "0d7855cf",
   "metadata": {},
   "outputs": [],
   "source": [
    "import pandas as pd"
   ]
  },
  {
   "cell_type": "code",
   "execution_count": 2,
   "id": "a5ffeee3",
   "metadata": {},
   "outputs": [],
   "source": [
    "#Storing the GDP data into a CSV file as prep for the GDP dataframe\n",
    "gdp_csv = \"../Resources/GDP 1947- Q32022.csv\""
   ]
  },
  {
   "cell_type": "code",
   "execution_count": 3,
   "id": "4b041c82",
   "metadata": {},
   "outputs": [
    {
     "data": {
      "text/html": [
       "<div>\n",
       "<style scoped>\n",
       "    .dataframe tbody tr th:only-of-type {\n",
       "        vertical-align: middle;\n",
       "    }\n",
       "\n",
       "    .dataframe tbody tr th {\n",
       "        vertical-align: top;\n",
       "    }\n",
       "\n",
       "    .dataframe thead th {\n",
       "        text-align: right;\n",
       "    }\n",
       "</style>\n",
       "<table border=\"1\" class=\"dataframe\">\n",
       "  <thead>\n",
       "    <tr style=\"text-align: right;\">\n",
       "      <th></th>\n",
       "      <th>DATE</th>\n",
       "      <th>QUARTERLY DATE</th>\n",
       "      <th>GDP</th>\n",
       "    </tr>\n",
       "  </thead>\n",
       "  <tbody>\n",
       "    <tr>\n",
       "      <th>0</th>\n",
       "      <td>1/1/2005</td>\n",
       "      <td>05:Q1</td>\n",
       "      <td>12767.286</td>\n",
       "    </tr>\n",
       "    <tr>\n",
       "      <th>1</th>\n",
       "      <td>4/1/2005</td>\n",
       "      <td>05:Q2</td>\n",
       "      <td>12922.656</td>\n",
       "    </tr>\n",
       "    <tr>\n",
       "      <th>2</th>\n",
       "      <td>7/1/2005</td>\n",
       "      <td>05:Q3</td>\n",
       "      <td>13142.642</td>\n",
       "    </tr>\n",
       "    <tr>\n",
       "      <th>3</th>\n",
       "      <td>10/1/2005</td>\n",
       "      <td>05:Q4</td>\n",
       "      <td>13324.204</td>\n",
       "    </tr>\n",
       "    <tr>\n",
       "      <th>4</th>\n",
       "      <td>1/1/2006</td>\n",
       "      <td>06:Q1</td>\n",
       "      <td>13599.160</td>\n",
       "    </tr>\n",
       "  </tbody>\n",
       "</table>\n",
       "</div>"
      ],
      "text/plain": [
       "        DATE QUARTERLY DATE        GDP\n",
       "0   1/1/2005          05:Q1  12767.286\n",
       "1   4/1/2005          05:Q2  12922.656\n",
       "2   7/1/2005          05:Q3  13142.642\n",
       "3  10/1/2005          05:Q4  13324.204\n",
       "4   1/1/2006          06:Q1  13599.160"
      ]
     },
     "execution_count": 3,
     "metadata": {},
     "output_type": "execute_result"
    }
   ],
   "source": [
    "#Creating the GDP DataFrame\n",
    "gdp_df = pd.read_csv(gdp_csv)\n",
    "gdp_df.head()"
   ]
  },
  {
   "cell_type": "code",
   "execution_count": 25,
   "id": "daf4ae51",
   "metadata": {},
   "outputs": [],
   "source": [
    "# #Refining the GDP DataFrame\n",
    "# cleaned_gdp_df = gdp_df[['QUARTERLY DATE', 'GDP']].copy()\n",
    "# cleaned_gdp_df.head()"
   ]
  },
  {
   "cell_type": "code",
   "execution_count": 23,
   "id": "a87fafaf",
   "metadata": {},
   "outputs": [
    {
     "data": {
      "text/html": [
       "<div>\n",
       "<style scoped>\n",
       "    .dataframe tbody tr th:only-of-type {\n",
       "        vertical-align: middle;\n",
       "    }\n",
       "\n",
       "    .dataframe tbody tr th {\n",
       "        vertical-align: top;\n",
       "    }\n",
       "\n",
       "    .dataframe thead th {\n",
       "        text-align: right;\n",
       "    }\n",
       "</style>\n",
       "<table border=\"1\" class=\"dataframe\">\n",
       "  <thead>\n",
       "    <tr style=\"text-align: right;\">\n",
       "      <th></th>\n",
       "      <th>QUARTERLY DATE</th>\n",
       "      <th>Year</th>\n",
       "      <th>Quarter</th>\n",
       "      <th>GDP</th>\n",
       "    </tr>\n",
       "  </thead>\n",
       "  <tbody>\n",
       "    <tr>\n",
       "      <th>0</th>\n",
       "      <td>05:Q1</td>\n",
       "      <td>05</td>\n",
       "      <td>Q1</td>\n",
       "      <td>12767.286</td>\n",
       "    </tr>\n",
       "    <tr>\n",
       "      <th>1</th>\n",
       "      <td>05:Q2</td>\n",
       "      <td>05</td>\n",
       "      <td>Q2</td>\n",
       "      <td>12922.656</td>\n",
       "    </tr>\n",
       "    <tr>\n",
       "      <th>2</th>\n",
       "      <td>05:Q3</td>\n",
       "      <td>05</td>\n",
       "      <td>Q3</td>\n",
       "      <td>13142.642</td>\n",
       "    </tr>\n",
       "    <tr>\n",
       "      <th>3</th>\n",
       "      <td>05:Q4</td>\n",
       "      <td>05</td>\n",
       "      <td>Q4</td>\n",
       "      <td>13324.204</td>\n",
       "    </tr>\n",
       "    <tr>\n",
       "      <th>4</th>\n",
       "      <td>06:Q1</td>\n",
       "      <td>06</td>\n",
       "      <td>Q1</td>\n",
       "      <td>13599.160</td>\n",
       "    </tr>\n",
       "  </tbody>\n",
       "</table>\n",
       "</div>"
      ],
      "text/plain": [
       "  QUARTERLY DATE Year Quarter        GDP\n",
       "0          05:Q1   05      Q1  12767.286\n",
       "1          05:Q2   05      Q2  12922.656\n",
       "2          05:Q3   05      Q3  13142.642\n",
       "3          05:Q4   05      Q4  13324.204\n",
       "4          06:Q1   06      Q1  13599.160"
      ]
     },
     "execution_count": 23,
     "metadata": {},
     "output_type": "execute_result"
    }
   ],
   "source": [
    "cleaned_gdp_df[['Year', 'Quarter']] = cleaned_gdp_df['QUARTERLY DATE'].str.split(':', expand=True)\n",
    "cleaned_gdp_df.head()"
   ]
  },
  {
   "cell_type": "code",
   "execution_count": 24,
   "id": "10595dba",
   "metadata": {},
   "outputs": [
    {
     "data": {
      "text/html": [
       "<div>\n",
       "<style scoped>\n",
       "    .dataframe tbody tr th:only-of-type {\n",
       "        vertical-align: middle;\n",
       "    }\n",
       "\n",
       "    .dataframe tbody tr th {\n",
       "        vertical-align: top;\n",
       "    }\n",
       "\n",
       "    .dataframe thead th {\n",
       "        text-align: right;\n",
       "    }\n",
       "</style>\n",
       "<table border=\"1\" class=\"dataframe\">\n",
       "  <thead>\n",
       "    <tr style=\"text-align: right;\">\n",
       "      <th></th>\n",
       "      <th>QUARTERLY DATE</th>\n",
       "      <th>Year</th>\n",
       "      <th>Quarter</th>\n",
       "      <th>GDP</th>\n",
       "    </tr>\n",
       "  </thead>\n",
       "  <tbody>\n",
       "    <tr>\n",
       "      <th>0</th>\n",
       "      <td>05:Q1</td>\n",
       "      <td>05</td>\n",
       "      <td>Q1</td>\n",
       "      <td>12767.286</td>\n",
       "    </tr>\n",
       "    <tr>\n",
       "      <th>1</th>\n",
       "      <td>05:Q2</td>\n",
       "      <td>05</td>\n",
       "      <td>Q2</td>\n",
       "      <td>12922.656</td>\n",
       "    </tr>\n",
       "    <tr>\n",
       "      <th>2</th>\n",
       "      <td>05:Q3</td>\n",
       "      <td>05</td>\n",
       "      <td>Q3</td>\n",
       "      <td>13142.642</td>\n",
       "    </tr>\n",
       "    <tr>\n",
       "      <th>3</th>\n",
       "      <td>05:Q4</td>\n",
       "      <td>05</td>\n",
       "      <td>Q4</td>\n",
       "      <td>13324.204</td>\n",
       "    </tr>\n",
       "    <tr>\n",
       "      <th>4</th>\n",
       "      <td>06:Q1</td>\n",
       "      <td>06</td>\n",
       "      <td>Q1</td>\n",
       "      <td>13599.160</td>\n",
       "    </tr>\n",
       "  </tbody>\n",
       "</table>\n",
       "</div>"
      ],
      "text/plain": [
       "  QUARTERLY DATE Year Quarter        GDP\n",
       "0          05:Q1   05      Q1  12767.286\n",
       "1          05:Q2   05      Q2  12922.656\n",
       "2          05:Q3   05      Q3  13142.642\n",
       "3          05:Q4   05      Q4  13324.204\n",
       "4          06:Q1   06      Q1  13599.160"
      ]
     },
     "execution_count": 24,
     "metadata": {},
     "output_type": "execute_result"
    }
   ],
   "source": [
    "cleaned_gdp_df = cleaned_gdp_df[['QUARTERLY DATE', 'Year', 'Quarter', 'GDP']]\n",
    "cleaned_gdp_df.head()"
   ]
  },
  {
   "cell_type": "code",
   "execution_count": null,
   "id": "a692e3e1",
   "metadata": {},
   "outputs": [],
   "source": []
  }
 ],
 "metadata": {
  "kernelspec": {
   "display_name": "PythonData",
   "language": "python",
   "name": "pythondata"
  },
  "language_info": {
   "codemirror_mode": {
    "name": "ipython",
    "version": 3
   },
   "file_extension": ".py",
   "mimetype": "text/x-python",
   "name": "python",
   "nbconvert_exporter": "python",
   "pygments_lexer": "ipython3",
   "version": "3.9.12"
  }
 },
 "nbformat": 4,
 "nbformat_minor": 5
}
